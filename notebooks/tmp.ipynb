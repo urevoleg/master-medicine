{
 "cells": [
  {
   "cell_type": "markdown",
   "metadata": {},
   "source": [
    "## Парсинг и анализ данных"
   ]
  },
  {
   "cell_type": "code",
   "execution_count": 1,
   "metadata": {},
   "source": [
    "# базовые библиотеки\n",
    "import os\n",
    "import random\n",
    "import re\n",
    "import time\n",
    "import json\n",
    "import datetime as dt\n",
    "\n",
    "import requests\n",
    "import typing as t\n",
    "import yaml\n",
    "\n",
    "from pprint import pprint\n",
    "\n",
    "from pathlib import Path\n",
    "\n",
    "import pandas as pd\n",
    "from tqdm.auto import tqdm\n",
    "\n",
    "DIR_HOME = str(Path.home())\n",
    "\n",
    "import warnings\n",
    "warnings.filterwarnings('ignore')\n",
    "\n",
    "from dotenv import load_dotenv\n",
    "load_dotenv()"
   ],
   "outputs": []
  },
  {
   "cell_type": "code",
   "execution_count": 2,
   "metadata": {
    "collapsed": false,
    "jupyter": {
     "outputs_hidden": false
    }
   },
   "source": [
    "import logging\n",
    "from logging import StreamHandler\n",
    "\n",
    "\n",
    "def get_logger(logger_name=\"super_logger\", handler_adds=None):\n",
    "    formatter = logging.Formatter('%(asctime)s - %(name)s - %(levelname)s - %(message)s')\n",
    "\n",
    "    super_logger = logging.getLogger(logger_name)\n",
    "    super_logger.setLevel(logging.DEBUG)\n",
    "    handler = StreamHandler()\n",
    "    handler.setFormatter(fmt=formatter)\n",
    "    super_logger.addHandler(handler)\n",
    "\n",
    "    if not handler_adds is None:\n",
    "        handler_adds.setFormatter(fmt=formatter)\n",
    "        handler_adds.setLevel(logging.DEBUG)\n",
    "        super_logger.addHandler(handler_adds)\n",
    "    return super_logger\n",
    "\n",
    "logger = get_logger(logger_name='tmp.ipynb')\n",
    "\n",
    "\n",
    "def read_yml(yml_path: str = '../src/zdrav.yml'):\n",
    "    # Чтение YML файла\n",
    "    with open(yml_path, 'r') as file:\n",
    "        data = yaml.safe_load(file)\n",
    "    \n",
    "    # Итерация по данным и печать годов и секций\n",
    "    for item in data['zdrav']:\n",
    "        year = item['year']\n",
    "        page_inc = item[\"page_inc\"]\n",
    "        # print(f\"Year: {year}\")\n",
    "        sections = item['sections']\n",
    "        for section in sections:\n",
    "            section.update({\"year\": year, \"page_inc\": page_inc})\n",
    "            yield section"
   ],
   "outputs": []
  },
  {
   "cell_type": "code",
   "execution_count": 3,
   "metadata": {},
   "source": [
    "%load_ext autoreload\n",
    "%autoreload 2\n",
    "\n",
    "import sys\n",
    "sys.path.append(\"/home/urev/projects/master-medicine/\")\n",
    "\n",
    "from parser import main"
   ],
   "outputs": []
  },
  {
   "cell_type": "code",
   "execution_count": null,
   "metadata": {},
   "source": [],
   "outputs": []
  },
  {
   "cell_type": "code",
   "execution_count": 140,
   "metadata": {
    "scrolled": true
   },
   "source": [
    "for s in main.read_yml():\n",
    "    print(s)\n",
    "    if s[\"year\"] == 2001:\n",
    "        dfs = main.parse(start_url=s[\"start_url\"],\n",
    "                  end_url=s[\"end_url\"],\n",
    "                  year=s[\"year\"],\n",
    "                   page_inc=s[\"page_inc\"],\n",
    "                   early_stop=None,\n",
    "                  logger=logger)\n",
    "        # assert any([len(df) > 1 for df in dfs]) == False, \"Hi, bro, It is some datasets in page!\""
   ],
   "outputs": []
  },
  {
   "cell_type": "code",
   "execution_count": 137,
   "metadata": {},
   "source": [],
   "outputs": []
  },
  {
   "cell_type": "code",
   "execution_count": 157,
   "metadata": {},
   "source": [
    "start_url = \"https://rosstat.gov.ru/bgd/regl/B07_34/IssWWW.exe/Stg/d02/3-01.htm\""
   ],
   "outputs": []
  },
  {
   "cell_type": "code",
   "execution_count": 152,
   "metadata": {},
   "source": [
    "start_number = int(re.findall(r'/\\d-(.*).htm', start_url)[0]) if re.findall(r'/\\d-(.*).htm', start_url) else -1\n",
    "end_number = int(re.findall(r'/\\d\\d-(.*).htm', end_url)[0]) if re.findall(r'/\\d\\d-(.*).htm', end_url) else -1\n",
    "url_template = \"/\".join(start_url.split(\"-\")[:-1]) + \"-%s.htm\"\n",
    "padding = 2\n",
    "\n",
    "url_template  % str(start_number).zfill(padding)"
   ],
   "outputs": []
  },
  {
   "cell_type": "code",
   "execution_count": 156,
   "metadata": {},
   "source": [
    "len(start_url.split(\"/\")[-1])"
   ],
   "outputs": []
  },
  {
   "cell_type": "code",
   "execution_count": null,
   "metadata": {},
   "source": [],
   "outputs": []
  },
  {
   "cell_type": "code",
   "execution_count": null,
   "metadata": {},
   "source": [],
   "outputs": []
  },
  {
   "cell_type": "code",
   "execution_count": null,
   "metadata": {},
   "source": [],
   "outputs": []
  },
  {
   "cell_type": "code",
   "execution_count": null,
   "metadata": {},
   "source": [],
   "outputs": []
  },
  {
   "cell_type": "code",
   "execution_count": null,
   "metadata": {},
   "source": [],
   "outputs": []
  }
 ],
 "metadata": {
  "kernelspec": {
   "display_name": "Python 3 (ipykernel)",
   "language": "python",
   "name": "python3"
  },
  "language_info": {
   "codemirror_mode": {
    "name": "ipython",
    "version": 3
   },
   "file_extension": ".py",
   "mimetype": "text/x-python",
   "name": "python",
   "nbconvert_exporter": "python",
   "pygments_lexer": "ipython3",
   "version": "3.10.12"
  }
 },
 "nbformat": 4,
 "nbformat_minor": 4
}
